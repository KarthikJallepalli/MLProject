{
 "cells": [
  {
   "cell_type": "markdown",
   "id": "0dd5c810",
   "metadata": {},
   "source": []
  },
  {
   "cell_type": "code",
   "execution_count": 2,
   "id": "5c5a6daf-0637-4e87-87d9-63bae80cd589",
   "metadata": {},
   "outputs": [],
   "source": [
    "import torch\n",
    "import torch.nn as nn\n",
    "import torch.optim as optim\n",
    "from torch.utils.data import DataLoader, TensorDataset\n",
    "import numpy as np\n",
    "import openpyxl\n",
    "import pandas as pd\n",
    "from sklearn.preprocessing import StandardScaler"
   ]
  },
  {
   "cell_type": "code",
   "execution_count": 7,
   "id": "29cbdc34-02ba-46f1-9b9a-7f0075efa242",
   "metadata": {},
   "outputs": [],
   "source": [
    "data = pd.read_csv('data/train.xls')"
   ]
  },
  {
   "cell_type": "code",
   "execution_count": 9,
   "id": "27a168fc-e131-485a-97db-66526abda8bb",
   "metadata": {},
   "outputs": [
    {
     "name": "stdout",
     "output_type": "stream",
     "text": [
      "Index(['Id', 'MSSubClass', 'MSZoning', 'LotFrontage', 'LotArea', 'Street',\n",
      "       'Alley', 'LotShape', 'LandContour', 'Utilities', 'LotConfig',\n",
      "       'LandSlope', 'Neighborhood', 'Condition1', 'Condition2', 'BldgType',\n",
      "       'HouseStyle', 'OverallQual', 'OverallCond', 'YearBuilt', 'YearRemodAdd',\n",
      "       'RoofStyle', 'RoofMatl', 'Exterior1st', 'Exterior2nd', 'MasVnrType',\n",
      "       'MasVnrArea', 'ExterQual', 'ExterCond', 'Foundation', 'BsmtQual',\n",
      "       'BsmtCond', 'BsmtExposure', 'BsmtFinType1', 'BsmtFinSF1',\n",
      "       'BsmtFinType2', 'BsmtFinSF2', 'BsmtUnfSF', 'TotalBsmtSF', 'Heating',\n",
      "       'HeatingQC', 'CentralAir', 'Electrical', '1stFlrSF', '2ndFlrSF',\n",
      "       'LowQualFinSF', 'GrLivArea', 'BsmtFullBath', 'BsmtHalfBath', 'FullBath',\n",
      "       'HalfBath', 'BedroomAbvGr', 'KitchenAbvGr', 'KitchenQual',\n",
      "       'TotRmsAbvGrd', 'Functional', 'Fireplaces', 'FireplaceQu', 'GarageType',\n",
      "       'GarageYrBlt', 'GarageFinish', 'GarageCars', 'GarageArea', 'GarageQual',\n",
      "       'GarageCond', 'PavedDrive', 'WoodDeckSF', 'OpenPorchSF',\n",
      "       'EnclosedPorch', '3SsnPorch', 'ScreenPorch', 'PoolArea', 'PoolQC',\n",
      "       'Fence', 'MiscFeature', 'MiscVal', 'MoSold', 'YrSold', 'SaleType',\n",
      "       'SaleCondition', 'SalePrice'],\n",
      "      dtype='object')\n",
      "(1460, 37)\n",
      "[[-1.73086488  0.07337496 -0.20803433 ... -0.08768781 -1.5991111\n",
      "   0.13877749]\n",
      " [-1.7284922  -0.87256276  0.40989452 ... -0.08768781 -0.48911005\n",
      "  -0.61443862]\n",
      " [-1.72611953  0.07337496 -0.08444856 ... -0.08768781  0.99089135\n",
      "   0.13877749]\n",
      " ...\n",
      " [ 1.72611953  0.30985939 -0.16683907 ...  4.95311151 -0.48911005\n",
      "   1.64520971]\n",
      " [ 1.7284922  -0.87256276 -0.08444856 ... -0.08768781 -0.8591104\n",
      "   1.64520971]\n",
      " [ 1.73086488 -0.87256276  0.20391824 ... -0.08768781 -0.1191097\n",
      "   0.13877749]]\n"
     ]
    }
   ],
   "source": [
    "\n",
    "print(data.columns)\n",
    "categorical_cols = data.select_dtypes(include=['object']).columns\n",
    "final = data.drop(categorical_cols, axis=1)\n",
    "y = final['SalePrice']\n",
    "X = final.drop(columns=['SalePrice'])\n",
    "print(X.shape)\n",
    "\n",
    "scaler = StandardScaler()\n",
    "X = scaler.fit_transform(X)\n",
    "print(X)"
   ]
  },
  {
   "cell_type": "code",
   "execution_count": 10,
   "id": "e80b2688-b8c0-420c-bb07-4515ef745452",
   "metadata": {},
   "outputs": [
    {
     "name": "stdout",
     "output_type": "stream",
     "text": [
      "Epoch [1/30], Train Loss: 38186127777.5534, Val Loss: 40775853614.5455\n",
      "Epoch [2/30], Train Loss: 27113237464.2330, Val Loss: 12295571083.6364\n",
      "Epoch [3/30], Train Loss: 8071619906.0777, Val Loss: 5528902498.9091\n",
      "Epoch [4/30], Train Loss: 6128373885.2233, Val Loss: 4712669253.8182\n",
      "Epoch [5/30], Train Loss: 5275630047.0680, Val Loss: 3826881221.8182\n",
      "Epoch [6/30], Train Loss: 4380644178.0194, Val Loss: 3085661326.5455\n",
      "Epoch [7/30], Train Loss: 3642224170.2330, Val Loss: 2736525704.7273\n",
      "Epoch [8/30], Train Loss: 3095532140.1165, Val Loss: 2281331947.6364\n",
      "Epoch [9/30], Train Loss: 2623703921.0874, Val Loss: 2056730807.2727\n",
      "Epoch [10/30], Train Loss: 2271373641.8350, Val Loss: 1846226324.3636\n",
      "Epoch [11/30], Train Loss: 2032617219.7282, Val Loss: 1687718132.3636\n",
      "Epoch [12/30], Train Loss: 1849807268.3204, Val Loss: 1493266711.2727\n",
      "Epoch [13/30], Train Loss: 1710589457.3981, Val Loss: 1417865992.7273\n",
      "Epoch [14/30], Train Loss: 1604045608.3883, Val Loss: 1345929367.2727\n",
      "Epoch [15/30], Train Loss: 1524370743.6117, Val Loss: 1328648754.9091\n",
      "Epoch [16/30], Train Loss: 1422427291.4951, Val Loss: 1245851447.2727\n",
      "Epoch [17/30], Train Loss: 1350986376.1553, Val Loss: 1150453904.0000\n",
      "Epoch [18/30], Train Loss: 1292881564.4272, Val Loss: 1095820557.0909\n",
      "Epoch [19/30], Train Loss: 1228979143.7476, Val Loss: 1110640005.8182\n",
      "Epoch [20/30], Train Loss: 1203158828.8932, Val Loss: 1044517237.8182\n",
      "Epoch [21/30], Train Loss: 1139371001.7864, Val Loss: 1027874278.5455\n",
      "Epoch [22/30], Train Loss: 1152461078.1359, Val Loss: 1011581687.2727\n",
      "Epoch [23/30], Train Loss: 1065096349.5340, Val Loss: 1014064450.9091\n",
      "Epoch [24/30], Train Loss: 1032649510.0583, Val Loss: 989131113.4545\n",
      "Epoch [25/30], Train Loss: 999780559.1845, Val Loss: 1046427899.6364\n",
      "Epoch [26/30], Train Loss: 986844462.1359, Val Loss: 969154050.9091\n",
      "Epoch [27/30], Train Loss: 1419845570.4854, Val Loss: 1028323752.0000\n",
      "Epoch [28/30], Train Loss: 1076502381.9806, Val Loss: 1011127143.2727\n",
      "Epoch [29/30], Train Loss: 916759404.5158, Val Loss: 976926303.2727\n",
      "Epoch [30/30], Train Loss: 893705062.2427, Val Loss: 955629518.5455\n"
     ]
    }
   ],
   "source": [
    "# Convert to PyTorch tensors\n",
    "X_train = torch.tensor(X, dtype=torch.float32)\n",
    "y_train = torch.tensor(y.values, dtype=torch.float32).view(-1, 1)\n",
    "X_train = torch.nan_to_num(X_train, nan=0.0)  # Replace NaN with 0\n",
    "y_train = torch.nan_to_num(y_train, nan=0.0)\n",
    "dataset = TensorDataset(X_train, y_train)\n",
    "# Create separate DataLoaders first\n",
    "from torch.utils.data import DataLoader, random_split\n",
    "\n",
    "# Assuming you have a full_dataset\n",
    "train_size = int(0.7 * len(dataset))\n",
    "val_size = int(0.15 * len(dataset))\n",
    "test_size = len(dataset) - train_size - val_size\n",
    "\n",
    "train_dataset, val_dataset, test_dataset = random_split(dataset, [train_size, val_size, test_size])\n",
    "\n",
    "train_dataloader = DataLoader(train_dataset, batch_size=10, shuffle=True)\n",
    "val_dataloader = DataLoader(val_dataset, batch_size=10)\n",
    "test_dataloader = DataLoader(test_dataset, batch_size=10)\n",
    "\n",
    "\n",
    "\n",
    "# Define the model\n",
    "model = nn.Sequential(\n",
    "    nn.Linear(37, 23),\n",
    "    nn.LeakyReLU(),\n",
    "    nn.Linear(23, 9),\n",
    "    nn.LeakyReLU(),\n",
    "    nn.Linear(9, 3),\n",
    "    nn.LeakyReLU(),\n",
    "    nn.Linear(3, 1)\n",
    ")\n",
    "\n",
    "# Loss function and optimizer\n",
    "criterion = nn.MSELoss()\n",
    "optimizer = optim.Adam(model.parameters(), lr=0.01)\n",
    "training_losses = []  # Store training loss for each epoch\n",
    "validation_losses = []  # Store validation loss for each epoch\n",
    "# Training loop\n",
    "epochs = 30\n",
    "for epoch in range(epochs):\n",
    "    # Training\n",
    "    model.train()\n",
    "    train_loss = 0.0\n",
    "    for batch_X, batch_y in train_dataloader:\n",
    "        optimizer.zero_grad()\n",
    "        predictions = model(batch_X)\n",
    "        loss = criterion(predictions, batch_y)\n",
    "        loss.backward()\n",
    "        optimizer.step()\n",
    "        train_loss += loss.item()\n",
    "    train_loss /= len(train_dataloader)\n",
    "    training_losses.append(train_loss)\n",
    "    \n",
    "    # Validation\n",
    "    model.eval()\n",
    "    val_loss = 0.0\n",
    "    with torch.no_grad():\n",
    "        for batch_X, batch_y in val_dataloader:\n",
    "            val_predictions = model(batch_X)\n",
    "            vloss = criterion(val_predictions, batch_y)\n",
    "            val_loss += vloss.item()\n",
    "    val_loss /= len(val_dataloader)\n",
    "    validation_losses.append(val_loss)\n",
    "    print(f\"Epoch [{epoch+1}/{epochs}], Train Loss: {train_loss:.4f}, Val Loss: {val_loss:.4f}\")\n",
    "    \n",
    "\n",
    "\n"
   ]
  },
  {
   "cell_type": "code",
   "execution_count": 11,
   "id": "6342fcd4-6d44-4968-9a90-180cea0d2ca1",
   "metadata": {},
   "outputs": [
    {
     "data": {
      "image/png": "[encoded data removed]",
      "text/plain": [
       "<Figure size 1000x600 with 1 Axes>"
      ]
     },
     "metadata": {},
     "output_type": "display_data"
    }
   ],
   "source": [
    "# Plotting the losses\n",
    "import matplotlib.pyplot as plt\n",
    "plt.figure(figsize=(10, 6))\n",
    "plt.plot(range(1, epochs + 1), validation_losses, label='Validation Loss', marker='o')\n",
    "plt.plot(range(1, epochs + 1), training_losses, label='Training Loss', marker='o')\n",
    "\n",
    "plt.xlabel('Epochs')\n",
    "plt.ylabel('Loss')\n",
    "plt.title('Training and Validation Loss')\n",
    "plt.legend()\n",
    "plt.grid(True)\n",
    "plt.show()"
   ]
  },
  {
   "cell_type": "code",
   "execution_count": 12,
   "id": "38cac95a-a84a-4628-b0e1-b320af677376",
   "metadata": {},
   "outputs": [
    {
     "name": "stdout",
     "output_type": "stream",
     "text": [
      "\n",
      "Final Test Loss: 2486315276.7273\n",
      "Test MAE: 25329.9434\n"
     ]
    },
    {
     "name": "stderr",
     "output_type": "stream",
     "text": [
      "C:\\Users\\jalle\\AppData\\Local\\Temp\\ipykernel_24636\\1197664052.py:18: UserWarning: Creating a tensor from a list of numpy.ndarrays is extremely slow. Please consider converting the list to a single numpy.ndarray with numpy.array() before converting to a tensor. (Triggered internally at C:\\actions-runner\\_work\\pytorch\\pytorch\\builder\\windows\\pytorch\\torch\\csrc\\utils\\tensor_new.cpp:281.)\n",
      "  test_mae = mae(torch.tensor(all_preds), torch.tensor(all_targets))\n"
     ]
    }
   ],
   "source": [
    "# Testing\n",
    "model.eval()\n",
    "test_loss = 0.0\n",
    "all_preds = []\n",
    "all_targets = []\n",
    "with torch.no_grad():\n",
    "    for batch_X, batch_y in test_dataloader:\n",
    "        predictions = model(batch_X)\n",
    "        test_loss += criterion(predictions, batch_y).item()\n",
    "        all_preds.extend(predictions.numpy())\n",
    "        all_targets.extend(batch_y.numpy())\n",
    "test_loss /= len(test_dataloader)\n",
    "\n",
    "print(f\"\\nFinal Test Loss: {test_loss:.4f}\")\n",
    "\n",
    "# Additional metric (MAE)\n",
    "mae = nn.L1Loss()\n",
    "test_mae = mae(torch.tensor(all_preds), torch.tensor(all_targets))\n",
    "print(f\"Test MAE: {test_mae:.4f}\")"
   ]
  },
  {
   "cell_type": "code",
   "execution_count": 17,
   "id": "a12f88fa-5482-4cd8-aa68-3effd3d3ac33",
   "metadata": {},
   "outputs": [
    {
     "data": {
      "text/plain": [
       "tensor([[110027.8281],\n",
       "        [159770.9062],\n",
       "        [178722.9062],\n",
       "        ...,\n",
       "        [210002.5781],\n",
       "        [        nan],\n",
       "        [253932.1875]], grad_fn=<AddmmBackward0>)"
      ]
     },
     "execution_count": 17,
     "metadata": {},
     "output_type": "execute_result"
    }
   ],
   "source": [
    "# Testing with a sample input\n",
    "test = pd.read_csv('data/test.xls')\n",
    "categorical_cols = test.select_dtypes(include=['object']).columns\n",
    "test = test.drop(categorical_cols, axis=1)\n",
    "scaler = StandardScaler()\n",
    "test = scaler.fit_transform(test)\n",
    "\n",
    "sample_input = torch.tensor(test, dtype=torch.float32)\n",
    "#sample_input = torch.nan_to_num(sample_input, nan=0.0)\n",
    "model.eval()\n",
    "predicted_value = model(sample_input)\n",
    "predicted_value"
   ]
  },
  {
   "cell_type": "code",
   "execution_count": null,
   "id": "0da60a50-0e3d-4455-a173-e99109480fde",
   "metadata": {},
   "outputs": [],
   "source": []
  },
  {
   "cell_type": "code",
   "execution_count": null,
   "id": "3e80045a-101b-42fc-86d9-382f1f0acee8",
   "metadata": {},
   "outputs": [],
   "source": []
  },
  {
   "cell_type": "code",
   "execution_count": null,
   "id": "bd14515b-a131-411c-8cf9-88be1e45cfde",
   "metadata": {},
   "outputs": [],
   "source": []
  },
  {
   "cell_type": "code",
   "execution_count": null,
   "id": "d1ca529e",
   "metadata": {},
   "outputs": [],
   "source": []
  },
  {
   "cell_type": "code",
   "execution_count": null,
   "id": "8568190a",
   "metadata": {},
   "outputs": [],
   "source": []
  },
  {
   "cell_type": "code",
   "execution_count": null,
   "id": "c7b364e2",
   "metadata": {},
   "outputs": [],
   "source": []
  },
  {
   "cell_type": "code",
   "execution_count": null,
   "id": "b9608244",
   "metadata": {},
   "outputs": [],
   "source": []
  },
  {
   "cell_type": "code",
   "execution_count": null,
   "id": "d1fd37c3",
   "metadata": {},
   "outputs": [],
   "source": []
  },
  {
   "cell_type": "code",
   "execution_count": null,
   "id": "de8d75f6",
   "metadata": {},
   "outputs": [],
   "source": []
  },
  {
   "cell_type": "code",
   "execution_count": null,
   "id": "2a207223",
   "metadata": {},
   "outputs": [],
   "source": []
  },
  {
   "cell_type": "code",
   "execution_count": null,
   "id": "32428a5d",
   "metadata": {},
   "outputs": [],
   "source": []
  }
 ],
 "metadata": {
  "kernelspec": {
   "display_name": "Python 3",
   "language": "python",
   "name": "python3"
  },
  "language_info": {
   "codemirror_mode": {
    "name": "ipython",
    "version": 3
   },
   "file_extension": ".py",
   "mimetype": "text/x-python",
   "name": "python",
   "nbconvert_exporter": "python",
   "pygments_lexer": "ipython3",
   "version": "3.8.20"
  }
 },
 "nbformat": 4,
 "nbformat_minor": 5
}
